{
 "cells": [
  {
   "cell_type": "code",
   "execution_count": 1,
   "id": "further-emergency",
   "metadata": {},
   "outputs": [
    {
     "data": {
      "text/plain": [
       "'2.4.1'"
      ]
     },
     "execution_count": 1,
     "metadata": {},
     "output_type": "execute_result"
    }
   ],
   "source": [
    "import tensorflow as tf\n",
    "tf.__version__"
   ]
  },
  {
   "cell_type": "code",
   "execution_count": 1,
   "id": "liberal-hardware",
   "metadata": {},
   "outputs": [],
   "source": [
    "import warnings\n",
    "warnings.filterwarnings(\"ignore\")\n",
    "import json\n",
    "import numpy as np\n",
    "import keras\n",
    "import random\n",
    "import pickle\n",
    "import numpy as np\n",
    "from keras.models import load_model\n",
    "from sklearn.preprocessing import LabelEncoder\n",
    "import re\n",
    "import colorama \n",
    "colorama.init()\n",
    "from colorama import Fore, Style, Back"
   ]
  },
  {
   "cell_type": "code",
   "execution_count": 2,
   "id": "correct-string",
   "metadata": {},
   "outputs": [],
   "source": [
    "with open(\"GL Bot.json\") as file:\n",
    "    data = json.load(file)\n",
    "\n",
    "def chat():\n",
    "    model = load_model('chatbot_model.h5')\n",
    "    with open('chatbot_tokenizer.pkl', 'rb') as f:\n",
    "        tokenizer = pickle.load(f)\n",
    "    with open('chatbotLablelEncoder.pkl', 'rb') as enc:\n",
    "        lbl_encoder = pickle.load(enc)\n",
    "    \n",
    "    while True:\n",
    "        print(\"User: \",end=\"\")\n",
    "        inp = input()\n",
    "        if inp.lower() == \"quit\":\n",
    "            break\n",
    "\n",
    "        result = model.predict(keras.preprocessing.sequence.pad_sequences(tokenizer.texts_to_sequences([inp]),\n",
    "                                             truncating='post', maxlen=20))\n",
    "        tag = lbl_encoder.inverse_transform([np.argmax(result)])\n",
    "\n",
    "        for i in data['intents']:\n",
    "            if i['tag'] == tag:\n",
    "                print(\"ChatBot:\", np.random.choice(i['responses']))"
   ]
  },
  {
   "cell_type": "code",
   "execution_count": 11,
   "id": "alleged-warning",
   "metadata": {},
   "outputs": [
    {
     "name": "stdout",
     "output_type": "stream",
     "text": [
      "Chat with the bot to resolve your issues pertaining to AI ML! Type quit to end the chat session !\n",
      "User: Hey\n",
      "ChatBot: Hello! how can i help you ?\n",
      "User: I wan to learn random fores\n",
      "ChatBot: Link: Machine Learning wiki \n",
      "User: what is adam\n",
      "ChatBot: Link: Neural Nets wiki\n",
      "User: not solved\n",
      "ChatBot: Tarnsferring the request to your PM\n",
      "User: olympus seems to be down\n",
      "ChatBot: Link: Olympus wiki\n",
      "User: thanks\n",
      "ChatBot: I hope I was able to assist you, Good Bye\n",
      "User: quit\n"
     ]
    }
   ],
   "source": [
    "print(\"Chat with the bot to resolve your issues pertaining to AI ML! Type quit to end the chat session !\")\n",
    "chat()"
   ]
  },
  {
   "cell_type": "code",
   "execution_count": null,
   "id": "hearing-teach",
   "metadata": {},
   "outputs": [],
   "source": []
  }
 ],
 "metadata": {
  "kernelspec": {
   "display_name": "Python 3",
   "language": "python",
   "name": "python3"
  },
  "language_info": {
   "codemirror_mode": {
    "name": "ipython",
    "version": 3
   },
   "file_extension": ".py",
   "mimetype": "text/x-python",
   "name": "python",
   "nbconvert_exporter": "python",
   "pygments_lexer": "ipython3",
   "version": "3.7.10"
  }
 },
 "nbformat": 4,
 "nbformat_minor": 5
}
