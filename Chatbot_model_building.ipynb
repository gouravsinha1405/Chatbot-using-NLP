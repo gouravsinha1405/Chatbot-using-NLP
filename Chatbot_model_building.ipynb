{
 "cells": [
  {
   "cell_type": "code",
   "execution_count": 2,
   "metadata": {
    "colab": {
     "base_uri": "https://localhost:8080/"
    },
    "executionInfo": {
     "elapsed": 4134,
     "status": "ok",
     "timestamp": 1619355447607,
     "user": {
      "displayName": "GAURAV SINHA",
      "photoUrl": "https://lh3.googleusercontent.com/a-/AOh14GiS8FF1DM7zWOuaBMWt4pMo2ud0M93_EqU2MRw_4Q=s64",
      "userId": "13858423673435577443"
     },
     "user_tz": -330
    },
    "id": "weX6skbJxtbx",
    "outputId": "7eb858b4-453b-401c-d677-0009c12c091e"
   },
   "outputs": [
    {
     "name": "stdout",
     "output_type": "stream",
     "text": [
      "[nltk_data] Downloading package stopwords to /root/nltk_data...\n",
      "[nltk_data]   Unzipping corpora/stopwords.zip.\n",
      "[nltk_data] Downloading package wordnet to /root/nltk_data...\n",
      "[nltk_data]   Unzipping corpora/wordnet.zip.\n",
      "[nltk_data] Downloading package punkt to /root/nltk_data...\n",
      "[nltk_data]   Unzipping tokenizers/punkt.zip.\n"
     ]
    },
    {
     "data": {
      "text/plain": [
       "True"
      ]
     },
     "execution_count": 2,
     "metadata": {
      "tags": []
     },
     "output_type": "execute_result"
    }
   ],
   "source": [
    "import nltk\n",
    "nltk.download('stopwords')\n",
    "nltk.download('wordnet')\n",
    "nltk.download('punkt')"
   ]
  },
  {
   "cell_type": "code",
   "execution_count": 13,
   "metadata": {
    "executionInfo": {
     "elapsed": 1432,
     "status": "ok",
     "timestamp": 1619356307638,
     "user": {
      "displayName": "GAURAV SINHA",
      "photoUrl": "https://lh3.googleusercontent.com/a-/AOh14GiS8FF1DM7zWOuaBMWt4pMo2ud0M93_EqU2MRw_4Q=s64",
      "userId": "13858423673435577443"
     },
     "user_tz": -330
    },
    "id": "5PCm1qzR0wme"
   },
   "outputs": [],
   "source": [
    "from nltk.stem import WordNetLemmatizer\n",
    "import json\n",
    "import pickle\n",
    "import numpy as np\n",
    "import tensorflow as tf\n",
    "from tensorflow import keras\n",
    "from tensorflow.keras.models import Sequential\n",
    "from tensorflow.keras.layers import Dense, Embedding, GlobalAveragePooling1D\n",
    "from tensorflow.keras.preprocessing.text import Tokenizer\n",
    "from tensorflow.keras.preprocessing.sequence import pad_sequences\n",
    "from sklearn.preprocessing import LabelEncoder\n",
    "import random"
   ]
  },
  {
   "cell_type": "code",
   "execution_count": 8,
   "metadata": {
    "executionInfo": {
     "elapsed": 926,
     "status": "ok",
     "timestamp": 1619356107332,
     "user": {
      "displayName": "GAURAV SINHA",
      "photoUrl": "https://lh3.googleusercontent.com/a-/AOh14GiS8FF1DM7zWOuaBMWt4pMo2ud0M93_EqU2MRw_4Q=s64",
      "userId": "13858423673435577443"
     },
     "user_tz": -330
    },
    "id": "s-t1f-jjGtf0"
   },
   "outputs": [],
   "source": [
    "with open('/content/drive/MyDrive/NLP_GLAssignment/GL Bot.json') as data_file:\n",
    "  data = json.load(data_file)"
   ]
  },
  {
   "cell_type": "code",
   "execution_count": 10,
   "metadata": {
    "executionInfo": {
     "elapsed": 941,
     "status": "ok",
     "timestamp": 1619356143943,
     "user": {
      "displayName": "GAURAV SINHA",
      "photoUrl": "https://lh3.googleusercontent.com/a-/AOh14GiS8FF1DM7zWOuaBMWt4pMo2ud0M93_EqU2MRw_4Q=s64",
      "userId": "13858423673435577443"
     },
     "user_tz": -330
    },
    "id": "RX6Hi2qz-ugn"
   },
   "outputs": [],
   "source": [
    "training_sentences = []\n",
    "training_labels = []\n",
    "labels = []\n",
    "responses = []\n",
    "\n",
    "\n",
    "for intent in data['intents']:\n",
    "    for pattern in intent['patterns']:\n",
    "        training_sentences.append(pattern)\n",
    "        training_labels.append(intent['tag'])\n",
    "    responses.append(intent['responses'])\n",
    "    \n",
    "    if intent['tag'] not in labels:\n",
    "        labels.append(intent['tag'])\n",
    "        \n",
    "num_classes = len(labels)\n"
   ]
  },
  {
   "cell_type": "code",
   "execution_count": 12,
   "metadata": {
    "colab": {
     "base_uri": "https://localhost:8080/"
    },
    "executionInfo": {
     "elapsed": 974,
     "status": "ok",
     "timestamp": 1619356169068,
     "user": {
      "displayName": "GAURAV SINHA",
      "photoUrl": "https://lh3.googleusercontent.com/a-/AOh14GiS8FF1DM7zWOuaBMWt4pMo2ud0M93_EqU2MRw_4Q=s64",
      "userId": "13858423673435577443"
     },
     "user_tz": -330
    },
    "id": "ZVTDmYT2-0Wt",
    "outputId": "9d4a121d-46f9-40c9-cac1-f410e712a0e0"
   },
   "outputs": [
    {
     "data": {
      "text/plain": [
       "['Intro', 'Exit', 'Olympus', 'SL', 'NN', 'Bot', 'Profane', 'Ticket']"
      ]
     },
     "execution_count": 12,
     "metadata": {
      "tags": []
     },
     "output_type": "execute_result"
    }
   ],
   "source": [
    "labels"
   ]
  },
  {
   "cell_type": "markdown",
   "metadata": {
    "id": "__smp5luJ5Ew"
   },
   "source": [
    "### Labelencoding and pickling the encoder"
   ]
  },
  {
   "cell_type": "code",
   "execution_count": 19,
   "metadata": {
    "executionInfo": {
     "elapsed": 917,
     "status": "ok",
     "timestamp": 1619356720827,
     "user": {
      "displayName": "GAURAV SINHA",
      "photoUrl": "https://lh3.googleusercontent.com/a-/AOh14GiS8FF1DM7zWOuaBMWt4pMo2ud0M93_EqU2MRw_4Q=s64",
      "userId": "13858423673435577443"
     },
     "user_tz": -330
    },
    "id": "d7jXupaKJ4ep"
   },
   "outputs": [],
   "source": [
    "encoder = LabelEncoder()\n",
    "encoder.fit(training_labels)\n",
    "with open(r\"/content/drive/MyDrive/NLP_GLAssignment/chatbotLablelEncoder.pkl\",'wb') as f:\n",
    "  pickle.dump(encoder,f)"
   ]
  },
  {
   "cell_type": "code",
   "execution_count": 20,
   "metadata": {
    "colab": {
     "base_uri": "https://localhost:8080/"
    },
    "executionInfo": {
     "elapsed": 958,
     "status": "ok",
     "timestamp": 1619356730365,
     "user": {
      "displayName": "GAURAV SINHA",
      "photoUrl": "https://lh3.googleusercontent.com/a-/AOh14GiS8FF1DM7zWOuaBMWt4pMo2ud0M93_EqU2MRw_4Q=s64",
      "userId": "13858423673435577443"
     },
     "user_tz": -330
    },
    "id": "3C_ViMvlLbdv",
    "outputId": "091fb34e-2747-4bc3-a0ae-4d7e78a27fda"
   },
   "outputs": [
    {
     "data": {
      "text/plain": [
       "array([2, 2, 2, 2, 2, 2, 2, 2, 2, 2, 2, 2, 2, 2, 2, 2, 2, 2, 2, 2, 1, 1,\n",
       "       1, 1, 1, 1, 1, 1, 1, 1, 1, 1, 1, 1, 1, 1, 4, 4, 4, 4, 4, 4, 4, 4,\n",
       "       4, 4, 4, 4, 4, 6, 6, 6, 6, 6, 6, 6, 6, 6, 6, 6, 6, 6, 6, 6, 6, 6,\n",
       "       6, 6, 6, 6, 6, 6, 6, 6, 6, 6, 6, 6, 3, 3, 3, 3, 3, 3, 3, 3, 3, 3,\n",
       "       3, 3, 3, 3, 3, 3, 3, 3, 3, 3, 3, 3, 3, 3, 0, 0, 0, 0, 0, 0, 0, 0,\n",
       "       5, 5, 5, 5, 5, 5, 5, 5, 5, 7, 7, 7, 7, 7, 7, 7, 7, 7])"
      ]
     },
     "execution_count": 20,
     "metadata": {
      "tags": []
     },
     "output_type": "execute_result"
    }
   ],
   "source": [
    "encoded_labels = encoder.transform(training_labels)\n",
    "encoded_labels"
   ]
  },
  {
   "cell_type": "markdown",
   "metadata": {
    "id": "hq9ir2tC_Ppw"
   },
   "source": [
    "### Text Preprocessing"
   ]
  },
  {
   "cell_type": "markdown",
   "metadata": {
    "id": "s5hI8Kh-V1EY"
   },
   "source": [
    "By using tokenizer we can not only remove unwanted out of vocabulary words(using oov token), we can also remove unwanted punctuation marks along with vectorization of texts"
   ]
  },
  {
   "cell_type": "code",
   "execution_count": 21,
   "metadata": {
    "executionInfo": {
     "elapsed": 1180,
     "status": "ok",
     "timestamp": 1619356860660,
     "user": {
      "displayName": "GAURAV SINHA",
      "photoUrl": "https://lh3.googleusercontent.com/a-/AOh14GiS8FF1DM7zWOuaBMWt4pMo2ud0M93_EqU2MRw_4Q=s64",
      "userId": "13858423673435577443"
     },
     "user_tz": -330
    },
    "id": "zLQZ1RHNMCN3"
   },
   "outputs": [],
   "source": [
    "vocab_size = 1000\n",
    "embedding_dim = 16\n",
    "max_len = 20\n",
    "oov_token = \"<OOV>\"\n",
    "\n",
    "tokenizer = Tokenizer(num_words=vocab_size, oov_token=oov_token)\n",
    "tokenizer.fit_on_texts(training_sentences)\n",
    "word_index = tokenizer.word_index\n",
    "sequences = tokenizer.texts_to_sequences(training_sentences)\n",
    "padded_sequences = pad_sequences(sequences, truncating='post', maxlen=max_len)"
   ]
  },
  {
   "cell_type": "code",
   "execution_count": 37,
   "metadata": {
    "executionInfo": {
     "elapsed": 975,
     "status": "ok",
     "timestamp": 1619357769612,
     "user": {
      "displayName": "GAURAV SINHA",
      "photoUrl": "https://lh3.googleusercontent.com/a-/AOh14GiS8FF1DM7zWOuaBMWt4pMo2ud0M93_EqU2MRw_4Q=s64",
      "userId": "13858423673435577443"
     },
     "user_tz": -330
    },
    "id": "-DqrI90ZPWLq"
   },
   "outputs": [],
   "source": [
    "with open(r'/content/drive/MyDrive/NLP_GLAssignment/chatbot_tokenizer.pkl','wb') as f:\n",
    "  pickle.dump(tokenizer,f)"
   ]
  },
  {
   "cell_type": "markdown",
   "metadata": {
    "id": "Jiekp7OTYdpY"
   },
   "source": [
    "### Training the deep neural network to predict the tags based on user inputs"
   ]
  },
  {
   "cell_type": "code",
   "execution_count": 38,
   "metadata": {
    "colab": {
     "base_uri": "https://localhost:8080/"
    },
    "executionInfo": {
     "elapsed": 1033,
     "status": "ok",
     "timestamp": 1619360124939,
     "user": {
      "displayName": "GAURAV SINHA",
      "photoUrl": "https://lh3.googleusercontent.com/a-/AOh14GiS8FF1DM7zWOuaBMWt4pMo2ud0M93_EqU2MRw_4Q=s64",
      "userId": "13858423673435577443"
     },
     "user_tz": -330
    },
    "id": "gz3MYPQFMMtW",
    "outputId": "04eda4b7-af58-41ad-cd3b-0e85ee5a3189"
   },
   "outputs": [
    {
     "name": "stdout",
     "output_type": "stream",
     "text": [
      "Model: \"sequential_4\"\n",
      "_________________________________________________________________\n",
      "Layer (type)                 Output Shape              Param #   \n",
      "=================================================================\n",
      "embedding_4 (Embedding)      (None, 20, 16)            16000     \n",
      "_________________________________________________________________\n",
      "global_average_pooling1d_4 ( (None, 16)                0         \n",
      "_________________________________________________________________\n",
      "dense_12 (Dense)             (None, 16)                272       \n",
      "_________________________________________________________________\n",
      "dense_13 (Dense)             (None, 16)                272       \n",
      "_________________________________________________________________\n",
      "dense_14 (Dense)             (None, 8)                 136       \n",
      "=================================================================\n",
      "Total params: 16,680\n",
      "Trainable params: 16,680\n",
      "Non-trainable params: 0\n",
      "_________________________________________________________________\n"
     ]
    }
   ],
   "source": [
    "model = Sequential()\n",
    "model.add(Embedding(vocab_size, embedding_dim, input_length=max_len))\n",
    "model.add(GlobalAveragePooling1D())\n",
    "model.add(Dense(16, activation='relu'))\n",
    "model.add(Dense(16, activation='relu'))\n",
    "model.add(Dense(num_classes, activation='softmax'))\n",
    "\n",
    "model.compile(loss='sparse_categorical_crossentropy', \n",
    "              optimizer='adam', metrics=['accuracy'])\n",
    "\n",
    "model.summary()"
   ]
  },
  {
   "cell_type": "code",
   "execution_count": 34,
   "metadata": {
    "colab": {
     "base_uri": "https://localhost:8080/"
    },
    "executionInfo": {
     "elapsed": 7209,
     "status": "ok",
     "timestamp": 1619357157566,
     "user": {
      "displayName": "GAURAV SINHA",
      "photoUrl": "https://lh3.googleusercontent.com/a-/AOh14GiS8FF1DM7zWOuaBMWt4pMo2ud0M93_EqU2MRw_4Q=s64",
      "userId": "13858423673435577443"
     },
     "user_tz": -330
    },
    "id": "ya0XghAjMQGV",
    "outputId": "d0cd7245-f00a-46f9-8ba1-947e69141e30"
   },
   "outputs": [
    {
     "name": "stdout",
     "output_type": "stream",
     "text": [
      "Epoch 1/200\n",
      "4/4 [==============================] - 1s 3ms/step - loss: 2.0800 - accuracy: 0.0781\n",
      "Epoch 2/200\n",
      "4/4 [==============================] - 0s 4ms/step - loss: 2.0766 - accuracy: 0.2000\n",
      "Epoch 3/200\n",
      "4/4 [==============================] - 0s 4ms/step - loss: 2.0727 - accuracy: 0.2437\n",
      "Epoch 4/200\n",
      "4/4 [==============================] - 0s 3ms/step - loss: 2.0700 - accuracy: 0.2281\n",
      "Epoch 5/200\n",
      "4/4 [==============================] - 0s 4ms/step - loss: 2.0677 - accuracy: 0.2406\n",
      "Epoch 6/200\n",
      "4/4 [==============================] - 0s 5ms/step - loss: 2.0623 - accuracy: 0.2406\n",
      "Epoch 7/200\n",
      "4/4 [==============================] - 0s 9ms/step - loss: 2.0608 - accuracy: 0.2531\n",
      "Epoch 8/200\n",
      "4/4 [==============================] - 0s 5ms/step - loss: 2.0553 - accuracy: 0.2198\n",
      "Epoch 9/200\n",
      "4/4 [==============================] - 0s 3ms/step - loss: 2.0553 - accuracy: 0.2052\n",
      "Epoch 10/200\n",
      "4/4 [==============================] - 0s 6ms/step - loss: 2.0455 - accuracy: 0.2281\n",
      "Epoch 11/200\n",
      "4/4 [==============================] - 0s 4ms/step - loss: 2.0457 - accuracy: 0.2188\n",
      "Epoch 12/200\n",
      "4/4 [==============================] - 0s 7ms/step - loss: 2.0394 - accuracy: 0.2313\n",
      "Epoch 13/200\n",
      "4/4 [==============================] - 0s 4ms/step - loss: 2.0282 - accuracy: 0.2687\n",
      "Epoch 14/200\n",
      "4/4 [==============================] - 0s 4ms/step - loss: 2.0307 - accuracy: 0.2271\n",
      "Epoch 15/200\n",
      "4/4 [==============================] - 0s 4ms/step - loss: 2.0262 - accuracy: 0.2198\n",
      "Epoch 16/200\n",
      "4/4 [==============================] - 0s 5ms/step - loss: 2.0134 - accuracy: 0.2313\n",
      "Epoch 17/200\n",
      "4/4 [==============================] - 0s 5ms/step - loss: 2.0024 - accuracy: 0.2292\n",
      "Epoch 18/200\n",
      "4/4 [==============================] - 0s 4ms/step - loss: 1.9902 - accuracy: 0.2562\n",
      "Epoch 19/200\n",
      "4/4 [==============================] - 0s 3ms/step - loss: 1.9904 - accuracy: 0.2385\n",
      "Epoch 20/200\n",
      "4/4 [==============================] - 0s 4ms/step - loss: 1.9963 - accuracy: 0.2104\n",
      "Epoch 21/200\n",
      "4/4 [==============================] - 0s 5ms/step - loss: 1.9915 - accuracy: 0.2469\n",
      "Epoch 22/200\n",
      "4/4 [==============================] - 0s 4ms/step - loss: 1.9644 - accuracy: 0.2719\n",
      "Epoch 23/200\n",
      "4/4 [==============================] - 0s 5ms/step - loss: 1.9666 - accuracy: 0.2177\n",
      "Epoch 24/200\n",
      "4/4 [==============================] - 0s 5ms/step - loss: 1.9482 - accuracy: 0.2510\n",
      "Epoch 25/200\n",
      "4/4 [==============================] - 0s 4ms/step - loss: 1.9348 - accuracy: 0.2448\n",
      "Epoch 26/200\n",
      "4/4 [==============================] - 0s 6ms/step - loss: 1.9437 - accuracy: 0.2510\n",
      "Epoch 27/200\n",
      "4/4 [==============================] - 0s 4ms/step - loss: 1.9088 - accuracy: 0.2635\n",
      "Epoch 28/200\n",
      "4/4 [==============================] - 0s 4ms/step - loss: 1.9384 - accuracy: 0.2042\n",
      "Epoch 29/200\n",
      "4/4 [==============================] - 0s 3ms/step - loss: 1.8940 - accuracy: 0.2760\n",
      "Epoch 30/200\n",
      "4/4 [==============================] - 0s 4ms/step - loss: 1.9269 - accuracy: 0.2469\n",
      "Epoch 31/200\n",
      "4/4 [==============================] - 0s 4ms/step - loss: 1.9230 - accuracy: 0.2406\n",
      "Epoch 32/200\n",
      "4/4 [==============================] - 0s 3ms/step - loss: 1.8632 - accuracy: 0.2562\n",
      "Epoch 33/200\n",
      "4/4 [==============================] - 0s 5ms/step - loss: 1.9040 - accuracy: 0.2177\n",
      "Epoch 34/200\n",
      "4/4 [==============================] - 0s 3ms/step - loss: 1.8743 - accuracy: 0.2510\n",
      "Epoch 35/200\n",
      "4/4 [==============================] - 0s 5ms/step - loss: 1.8649 - accuracy: 0.2854\n",
      "Epoch 36/200\n",
      "4/4 [==============================] - 0s 3ms/step - loss: 1.8711 - accuracy: 0.2479\n",
      "Epoch 37/200\n",
      "4/4 [==============================] - 0s 4ms/step - loss: 1.8991 - accuracy: 0.1865\n",
      "Epoch 38/200\n",
      "4/4 [==============================] - 0s 5ms/step - loss: 1.8366 - accuracy: 0.2760\n",
      "Epoch 39/200\n",
      "4/4 [==============================] - 0s 5ms/step - loss: 1.9029 - accuracy: 0.2115\n",
      "Epoch 40/200\n",
      "4/4 [==============================] - 0s 5ms/step - loss: 1.8488 - accuracy: 0.2406\n",
      "Epoch 41/200\n",
      "4/4 [==============================] - 0s 4ms/step - loss: 1.8293 - accuracy: 0.2219\n",
      "Epoch 42/200\n",
      "4/4 [==============================] - 0s 4ms/step - loss: 1.8968 - accuracy: 0.1885\n",
      "Epoch 43/200\n",
      "4/4 [==============================] - 0s 4ms/step - loss: 1.7998 - accuracy: 0.2552\n",
      "Epoch 44/200\n",
      "4/4 [==============================] - 0s 3ms/step - loss: 1.8562 - accuracy: 0.1917\n",
      "Epoch 45/200\n",
      "4/4 [==============================] - 0s 3ms/step - loss: 1.8047 - accuracy: 0.2313\n",
      "Epoch 46/200\n",
      "4/4 [==============================] - 0s 5ms/step - loss: 1.7721 - accuracy: 0.2812\n",
      "Epoch 47/200\n",
      "4/4 [==============================] - 0s 3ms/step - loss: 1.8108 - accuracy: 0.2198\n",
      "Epoch 48/200\n",
      "4/4 [==============================] - 0s 3ms/step - loss: 1.7679 - accuracy: 0.2469\n",
      "Epoch 49/200\n",
      "4/4 [==============================] - 0s 3ms/step - loss: 1.7504 - accuracy: 0.2625\n",
      "Epoch 50/200\n",
      "4/4 [==============================] - 0s 5ms/step - loss: 1.7289 - accuracy: 0.2906\n",
      "Epoch 51/200\n",
      "4/4 [==============================] - 0s 4ms/step - loss: 1.7353 - accuracy: 0.2719\n",
      "Epoch 52/200\n",
      "4/4 [==============================] - 0s 5ms/step - loss: 1.7401 - accuracy: 0.2750\n",
      "Epoch 53/200\n",
      "4/4 [==============================] - 0s 5ms/step - loss: 1.7454 - accuracy: 0.2625\n",
      "Epoch 54/200\n",
      "4/4 [==============================] - 0s 4ms/step - loss: 1.7310 - accuracy: 0.2875\n",
      "Epoch 55/200\n",
      "4/4 [==============================] - 0s 4ms/step - loss: 1.6733 - accuracy: 0.2896\n",
      "Epoch 56/200\n",
      "4/4 [==============================] - 0s 5ms/step - loss: 1.6690 - accuracy: 0.3479\n",
      "Epoch 57/200\n",
      "4/4 [==============================] - 0s 4ms/step - loss: 1.6682 - accuracy: 0.3198\n",
      "Epoch 58/200\n",
      "4/4 [==============================] - 0s 4ms/step - loss: 1.6618 - accuracy: 0.3729\n",
      "Epoch 59/200\n",
      "4/4 [==============================] - 0s 5ms/step - loss: 1.6669 - accuracy: 0.3396\n",
      "Epoch 60/200\n",
      "4/4 [==============================] - 0s 5ms/step - loss: 1.6089 - accuracy: 0.3927\n",
      "Epoch 61/200\n",
      "4/4 [==============================] - 0s 4ms/step - loss: 1.6278 - accuracy: 0.3771\n",
      "Epoch 62/200\n",
      "4/4 [==============================] - 0s 5ms/step - loss: 1.6408 - accuracy: 0.3469\n",
      "Epoch 63/200\n",
      "4/4 [==============================] - 0s 6ms/step - loss: 1.6147 - accuracy: 0.3448\n",
      "Epoch 64/200\n",
      "4/4 [==============================] - 0s 7ms/step - loss: 1.5685 - accuracy: 0.4302\n",
      "Epoch 65/200\n",
      "4/4 [==============================] - 0s 6ms/step - loss: 1.6244 - accuracy: 0.4365\n",
      "Epoch 66/200\n",
      "4/4 [==============================] - 0s 5ms/step - loss: 1.5899 - accuracy: 0.4125\n",
      "Epoch 67/200\n",
      "4/4 [==============================] - 0s 4ms/step - loss: 1.5836 - accuracy: 0.4375\n",
      "Epoch 68/200\n",
      "4/4 [==============================] - 0s 3ms/step - loss: 1.5196 - accuracy: 0.5104\n",
      "Epoch 69/200\n",
      "4/4 [==============================] - 0s 3ms/step - loss: 1.5267 - accuracy: 0.4865\n",
      "Epoch 70/200\n",
      "4/4 [==============================] - 0s 5ms/step - loss: 1.4710 - accuracy: 0.5135\n",
      "Epoch 71/200\n",
      "4/4 [==============================] - 0s 5ms/step - loss: 1.4489 - accuracy: 0.4896\n",
      "Epoch 72/200\n",
      "4/4 [==============================] - 0s 5ms/step - loss: 1.4166 - accuracy: 0.4938\n",
      "Epoch 73/200\n",
      "4/4 [==============================] - 0s 5ms/step - loss: 1.4737 - accuracy: 0.4802\n",
      "Epoch 74/200\n",
      "4/4 [==============================] - 0s 4ms/step - loss: 1.4255 - accuracy: 0.5687\n",
      "Epoch 75/200\n",
      "4/4 [==============================] - 0s 6ms/step - loss: 1.3636 - accuracy: 0.5813\n",
      "Epoch 76/200\n",
      "4/4 [==============================] - 0s 5ms/step - loss: 1.4054 - accuracy: 0.5458\n",
      "Epoch 77/200\n",
      "4/4 [==============================] - 0s 6ms/step - loss: 1.4420 - accuracy: 0.5104\n",
      "Epoch 78/200\n",
      "4/4 [==============================] - 0s 6ms/step - loss: 1.4232 - accuracy: 0.5344\n",
      "Epoch 79/200\n",
      "4/4 [==============================] - 0s 4ms/step - loss: 1.3453 - accuracy: 0.5604\n",
      "Epoch 80/200\n",
      "4/4 [==============================] - 0s 4ms/step - loss: 1.3382 - accuracy: 0.5875\n",
      "Epoch 81/200\n",
      "4/4 [==============================] - 0s 4ms/step - loss: 1.3344 - accuracy: 0.5510\n",
      "Epoch 82/200\n",
      "4/4 [==============================] - 0s 5ms/step - loss: 1.3717 - accuracy: 0.5531\n",
      "Epoch 83/200\n",
      "4/4 [==============================] - 0s 6ms/step - loss: 1.3151 - accuracy: 0.5677\n",
      "Epoch 84/200\n",
      "4/4 [==============================] - 0s 6ms/step - loss: 1.2956 - accuracy: 0.5813\n",
      "Epoch 85/200\n",
      "4/4 [==============================] - 0s 4ms/step - loss: 1.2750 - accuracy: 0.5615\n",
      "Epoch 86/200\n",
      "4/4 [==============================] - 0s 5ms/step - loss: 1.2707 - accuracy: 0.5521\n",
      "Epoch 87/200\n",
      "4/4 [==============================] - 0s 3ms/step - loss: 1.2815 - accuracy: 0.5542\n",
      "Epoch 88/200\n",
      "4/4 [==============================] - 0s 5ms/step - loss: 1.2170 - accuracy: 0.5427\n",
      "Epoch 89/200\n",
      "4/4 [==============================] - 0s 6ms/step - loss: 1.2201 - accuracy: 0.6062\n",
      "Epoch 90/200\n",
      "4/4 [==============================] - 0s 5ms/step - loss: 1.1884 - accuracy: 0.5813\n",
      "Epoch 91/200\n",
      "4/4 [==============================] - 0s 4ms/step - loss: 1.2096 - accuracy: 0.5667\n",
      "Epoch 92/200\n",
      "4/4 [==============================] - 0s 9ms/step - loss: 1.1954 - accuracy: 0.5865\n",
      "Epoch 93/200\n",
      "4/4 [==============================] - 0s 4ms/step - loss: 1.1815 - accuracy: 0.5990\n",
      "Epoch 94/200\n",
      "4/4 [==============================] - 0s 4ms/step - loss: 1.1580 - accuracy: 0.5875\n",
      "Epoch 95/200\n",
      "4/4 [==============================] - 0s 6ms/step - loss: 1.1053 - accuracy: 0.6562\n",
      "Epoch 96/200\n",
      "4/4 [==============================] - 0s 4ms/step - loss: 1.1100 - accuracy: 0.6500\n",
      "Epoch 97/200\n",
      "4/4 [==============================] - 0s 6ms/step - loss: 1.1195 - accuracy: 0.6281\n",
      "Epoch 98/200\n",
      "4/4 [==============================] - 0s 5ms/step - loss: 1.1065 - accuracy: 0.6094\n",
      "Epoch 99/200\n",
      "4/4 [==============================] - 0s 5ms/step - loss: 1.0799 - accuracy: 0.6687\n",
      "Epoch 100/200\n",
      "4/4 [==============================] - 0s 4ms/step - loss: 1.0428 - accuracy: 0.6875\n",
      "Epoch 101/200\n",
      "4/4 [==============================] - 0s 4ms/step - loss: 1.0495 - accuracy: 0.6396\n",
      "Epoch 102/200\n",
      "4/4 [==============================] - 0s 3ms/step - loss: 1.0392 - accuracy: 0.6490\n",
      "Epoch 103/200\n",
      "4/4 [==============================] - 0s 6ms/step - loss: 1.0368 - accuracy: 0.6771\n",
      "Epoch 104/200\n",
      "4/4 [==============================] - 0s 6ms/step - loss: 1.0083 - accuracy: 0.6458\n",
      "Epoch 105/200\n",
      "4/4 [==============================] - 0s 3ms/step - loss: 1.0096 - accuracy: 0.6469\n",
      "Epoch 106/200\n",
      "4/4 [==============================] - 0s 4ms/step - loss: 0.9798 - accuracy: 0.6948\n",
      "Epoch 107/200\n",
      "4/4 [==============================] - 0s 5ms/step - loss: 0.9570 - accuracy: 0.7365\n",
      "Epoch 108/200\n",
      "4/4 [==============================] - 0s 3ms/step - loss: 0.9417 - accuracy: 0.7271\n",
      "Epoch 109/200\n",
      "4/4 [==============================] - 0s 4ms/step - loss: 0.9028 - accuracy: 0.7469\n",
      "Epoch 110/200\n",
      "4/4 [==============================] - 0s 5ms/step - loss: 0.9372 - accuracy: 0.6979\n",
      "Epoch 111/200\n",
      "4/4 [==============================] - 0s 4ms/step - loss: 0.8854 - accuracy: 0.7479\n",
      "Epoch 112/200\n",
      "4/4 [==============================] - 0s 3ms/step - loss: 0.9195 - accuracy: 0.7427\n",
      "Epoch 113/200\n",
      "4/4 [==============================] - 0s 4ms/step - loss: 0.8602 - accuracy: 0.7812\n",
      "Epoch 114/200\n",
      "4/4 [==============================] - 0s 4ms/step - loss: 0.9060 - accuracy: 0.7167\n",
      "Epoch 115/200\n",
      "4/4 [==============================] - 0s 5ms/step - loss: 0.8549 - accuracy: 0.7740\n",
      "Epoch 116/200\n",
      "4/4 [==============================] - 0s 4ms/step - loss: 0.8117 - accuracy: 0.7823\n",
      "Epoch 117/200\n",
      "4/4 [==============================] - 0s 4ms/step - loss: 0.7800 - accuracy: 0.7844\n",
      "Epoch 118/200\n",
      "4/4 [==============================] - 0s 6ms/step - loss: 0.7531 - accuracy: 0.8063\n",
      "Epoch 119/200\n",
      "4/4 [==============================] - 0s 5ms/step - loss: 0.7641 - accuracy: 0.8052\n",
      "Epoch 120/200\n",
      "4/4 [==============================] - 0s 4ms/step - loss: 0.7397 - accuracy: 0.8344\n",
      "Epoch 121/200\n",
      "4/4 [==============================] - 0s 3ms/step - loss: 0.7523 - accuracy: 0.8135\n",
      "Epoch 122/200\n",
      "4/4 [==============================] - 0s 4ms/step - loss: 0.7496 - accuracy: 0.8094\n",
      "Epoch 123/200\n",
      "4/4 [==============================] - 0s 4ms/step - loss: 0.7148 - accuracy: 0.8167\n",
      "Epoch 124/200\n",
      "4/4 [==============================] - 0s 4ms/step - loss: 0.6947 - accuracy: 0.8229\n",
      "Epoch 125/200\n",
      "4/4 [==============================] - 0s 7ms/step - loss: 0.6820 - accuracy: 0.8500\n",
      "Epoch 126/200\n",
      "4/4 [==============================] - 0s 4ms/step - loss: 0.6762 - accuracy: 0.8313\n",
      "Epoch 127/200\n",
      "4/4 [==============================] - 0s 4ms/step - loss: 0.6507 - accuracy: 0.8615\n",
      "Epoch 128/200\n",
      "4/4 [==============================] - 0s 6ms/step - loss: 0.6782 - accuracy: 0.8354\n",
      "Epoch 129/200\n",
      "4/4 [==============================] - 0s 4ms/step - loss: 0.6339 - accuracy: 0.8333\n",
      "Epoch 130/200\n",
      "4/4 [==============================] - 0s 5ms/step - loss: 0.6507 - accuracy: 0.8729\n",
      "Epoch 131/200\n",
      "4/4 [==============================] - 0s 5ms/step - loss: 0.5888 - accuracy: 0.9052\n",
      "Epoch 132/200\n",
      "4/4 [==============================] - 0s 4ms/step - loss: 0.5820 - accuracy: 0.8896\n",
      "Epoch 133/200\n",
      "4/4 [==============================] - 0s 6ms/step - loss: 0.5858 - accuracy: 0.9052\n",
      "Epoch 134/200\n",
      "4/4 [==============================] - 0s 5ms/step - loss: 0.5655 - accuracy: 0.8938\n",
      "Epoch 135/200\n",
      "4/4 [==============================] - 0s 7ms/step - loss: 0.5946 - accuracy: 0.8875\n",
      "Epoch 136/200\n",
      "4/4 [==============================] - 0s 3ms/step - loss: 0.5370 - accuracy: 0.9052\n",
      "Epoch 137/200\n",
      "4/4 [==============================] - 0s 5ms/step - loss: 0.5451 - accuracy: 0.9115\n",
      "Epoch 138/200\n",
      "4/4 [==============================] - 0s 4ms/step - loss: 0.5352 - accuracy: 0.9052\n",
      "Epoch 139/200\n",
      "4/4 [==============================] - 0s 5ms/step - loss: 0.5124 - accuracy: 0.9073\n",
      "Epoch 140/200\n",
      "4/4 [==============================] - 0s 7ms/step - loss: 0.5114 - accuracy: 0.8812\n",
      "Epoch 141/200\n",
      "4/4 [==============================] - 0s 5ms/step - loss: 0.5036 - accuracy: 0.8958\n",
      "Epoch 142/200\n",
      "4/4 [==============================] - 0s 5ms/step - loss: 0.4770 - accuracy: 0.9104\n",
      "Epoch 143/200\n",
      "4/4 [==============================] - 0s 6ms/step - loss: 0.4477 - accuracy: 0.9208\n",
      "Epoch 144/200\n",
      "4/4 [==============================] - 0s 5ms/step - loss: 0.4617 - accuracy: 0.9208\n",
      "Epoch 145/200\n",
      "4/4 [==============================] - 0s 6ms/step - loss: 0.4744 - accuracy: 0.8729\n",
      "Epoch 146/200\n",
      "4/4 [==============================] - 0s 5ms/step - loss: 0.4151 - accuracy: 0.9260\n",
      "Epoch 147/200\n",
      "4/4 [==============================] - 0s 6ms/step - loss: 0.4397 - accuracy: 0.9323\n",
      "Epoch 148/200\n",
      "4/4 [==============================] - 0s 4ms/step - loss: 0.4224 - accuracy: 0.9365\n",
      "Epoch 149/200\n",
      "4/4 [==============================] - 0s 5ms/step - loss: 0.4307 - accuracy: 0.9240\n",
      "Epoch 150/200\n",
      "4/4 [==============================] - 0s 4ms/step - loss: 0.4347 - accuracy: 0.9083\n",
      "Epoch 151/200\n",
      "4/4 [==============================] - 0s 4ms/step - loss: 0.4339 - accuracy: 0.9083\n",
      "Epoch 152/200\n",
      "4/4 [==============================] - 0s 4ms/step - loss: 0.3956 - accuracy: 0.9260\n",
      "Epoch 153/200\n",
      "4/4 [==============================] - 0s 4ms/step - loss: 0.4087 - accuracy: 0.9281\n",
      "Epoch 154/200\n",
      "4/4 [==============================] - 0s 5ms/step - loss: 0.3887 - accuracy: 0.9365\n",
      "Epoch 155/200\n",
      "4/4 [==============================] - 0s 3ms/step - loss: 0.3539 - accuracy: 0.9437\n",
      "Epoch 156/200\n",
      "4/4 [==============================] - 0s 5ms/step - loss: 0.3602 - accuracy: 0.9542\n",
      "Epoch 157/200\n",
      "4/4 [==============================] - 0s 4ms/step - loss: 0.3462 - accuracy: 0.9490\n",
      "Epoch 158/200\n",
      "4/4 [==============================] - 0s 4ms/step - loss: 0.3600 - accuracy: 0.9490\n",
      "Epoch 159/200\n",
      "4/4 [==============================] - 0s 4ms/step - loss: 0.3674 - accuracy: 0.9521\n",
      "Epoch 160/200\n",
      "4/4 [==============================] - 0s 4ms/step - loss: 0.3533 - accuracy: 0.9344\n",
      "Epoch 161/200\n",
      "4/4 [==============================] - 0s 6ms/step - loss: 0.3193 - accuracy: 0.9458\n",
      "Epoch 162/200\n",
      "4/4 [==============================] - 0s 4ms/step - loss: 0.3348 - accuracy: 0.9573\n",
      "Epoch 163/200\n",
      "4/4 [==============================] - 0s 7ms/step - loss: 0.3335 - accuracy: 0.9719\n",
      "Epoch 164/200\n",
      "4/4 [==============================] - 0s 5ms/step - loss: 0.3109 - accuracy: 0.9833\n",
      "Epoch 165/200\n",
      "4/4 [==============================] - 0s 4ms/step - loss: 0.3113 - accuracy: 0.9771\n",
      "Epoch 166/200\n",
      "4/4 [==============================] - 0s 6ms/step - loss: 0.2970 - accuracy: 0.9833\n",
      "Epoch 167/200\n",
      "4/4 [==============================] - 0s 4ms/step - loss: 0.2699 - accuracy: 0.9938\n",
      "Epoch 168/200\n",
      "4/4 [==============================] - 0s 5ms/step - loss: 0.2986 - accuracy: 0.9885\n",
      "Epoch 169/200\n",
      "4/4 [==============================] - 0s 5ms/step - loss: 0.2882 - accuracy: 0.9802\n",
      "Epoch 170/200\n",
      "4/4 [==============================] - 0s 4ms/step - loss: 0.2886 - accuracy: 0.9708\n",
      "Epoch 171/200\n",
      "4/4 [==============================] - 0s 4ms/step - loss: 0.2610 - accuracy: 0.9802\n",
      "Epoch 172/200\n",
      "4/4 [==============================] - 0s 3ms/step - loss: 0.2874 - accuracy: 0.9802\n",
      "Epoch 173/200\n",
      "4/4 [==============================] - 0s 6ms/step - loss: 0.2702 - accuracy: 0.9833\n",
      "Epoch 174/200\n",
      "4/4 [==============================] - 0s 7ms/step - loss: 0.2445 - accuracy: 0.9823\n",
      "Epoch 175/200\n",
      "4/4 [==============================] - 0s 4ms/step - loss: 0.2775 - accuracy: 0.9771\n",
      "Epoch 176/200\n",
      "4/4 [==============================] - 0s 8ms/step - loss: 0.2373 - accuracy: 0.9823\n",
      "Epoch 177/200\n",
      "4/4 [==============================] - 0s 6ms/step - loss: 0.2474 - accuracy: 0.9802\n",
      "Epoch 178/200\n",
      "4/4 [==============================] - 0s 4ms/step - loss: 0.2188 - accuracy: 0.9885\n",
      "Epoch 179/200\n",
      "4/4 [==============================] - 0s 3ms/step - loss: 0.2198 - accuracy: 0.9917\n",
      "Epoch 180/200\n",
      "4/4 [==============================] - 0s 4ms/step - loss: 0.2250 - accuracy: 0.9865\n",
      "Epoch 181/200\n",
      "4/4 [==============================] - 0s 4ms/step - loss: 0.2304 - accuracy: 0.9865\n",
      "Epoch 182/200\n",
      "4/4 [==============================] - 0s 5ms/step - loss: 0.2370 - accuracy: 0.9771\n",
      "Epoch 183/200\n",
      "4/4 [==============================] - 0s 7ms/step - loss: 0.1899 - accuracy: 0.9917\n",
      "Epoch 184/200\n",
      "4/4 [==============================] - 0s 5ms/step - loss: 0.1983 - accuracy: 0.9917\n",
      "Epoch 185/200\n",
      "4/4 [==============================] - 0s 7ms/step - loss: 0.1903 - accuracy: 0.9823\n",
      "Epoch 186/200\n",
      "4/4 [==============================] - 0s 6ms/step - loss: 0.1846 - accuracy: 0.9917\n",
      "Epoch 187/200\n",
      "4/4 [==============================] - 0s 4ms/step - loss: 0.1868 - accuracy: 0.9938\n",
      "Epoch 188/200\n",
      "4/4 [==============================] - 0s 4ms/step - loss: 0.1904 - accuracy: 0.9885\n",
      "Epoch 189/200\n",
      "4/4 [==============================] - 0s 4ms/step - loss: 0.1910 - accuracy: 0.9771\n",
      "Epoch 190/200\n",
      "4/4 [==============================] - 0s 4ms/step - loss: 0.1798 - accuracy: 0.9865\n",
      "Epoch 191/200\n",
      "4/4 [==============================] - 0s 4ms/step - loss: 0.1783 - accuracy: 0.9885\n",
      "Epoch 192/200\n",
      "4/4 [==============================] - 0s 4ms/step - loss: 0.1833 - accuracy: 0.9823\n",
      "Epoch 193/200\n",
      "4/4 [==============================] - 0s 4ms/step - loss: 0.1609 - accuracy: 0.9938\n",
      "Epoch 194/200\n",
      "4/4 [==============================] - 0s 4ms/step - loss: 0.1695 - accuracy: 0.9833\n",
      "Epoch 195/200\n",
      "4/4 [==============================] - 0s 4ms/step - loss: 0.1587 - accuracy: 0.9885\n",
      "Epoch 196/200\n",
      "4/4 [==============================] - 0s 4ms/step - loss: 0.1688 - accuracy: 0.9802\n",
      "Epoch 197/200\n",
      "4/4 [==============================] - 0s 4ms/step - loss: 0.1495 - accuracy: 0.9885\n",
      "Epoch 198/200\n",
      "4/4 [==============================] - 0s 4ms/step - loss: 0.1489 - accuracy: 0.9917\n",
      "Epoch 199/200\n",
      "4/4 [==============================] - 0s 5ms/step - loss: 0.1583 - accuracy: 0.9833\n",
      "Epoch 200/200\n",
      "4/4 [==============================] - 0s 3ms/step - loss: 0.1603 - accuracy: 0.9885\n"
     ]
    }
   ],
   "source": [
    "epochs = 200\n",
    "history = model.fit(padded_sequences, np.array(encoded_labels), epochs=epochs)"
   ]
  },
  {
   "cell_type": "code",
   "execution_count": 36,
   "metadata": {
    "executionInfo": {
     "elapsed": 1008,
     "status": "ok",
     "timestamp": 1619357341879,
     "user": {
      "displayName": "GAURAV SINHA",
      "photoUrl": "https://lh3.googleusercontent.com/a-/AOh14GiS8FF1DM7zWOuaBMWt4pMo2ud0M93_EqU2MRw_4Q=s64",
      "userId": "13858423673435577443"
     },
     "user_tz": -330
    },
    "id": "9IM-BiVkNZta"
   },
   "outputs": [],
   "source": [
    "model.save(r\"/content/drive/MyDrive/NLP_GLAssignment/chatbot_model.h5\",history)"
   ]
  }
 ],
 "metadata": {
  "colab": {
   "authorship_tag": "ABX9TyNbfWGYUj4mU9BWGMsreeNW",
   "collapsed_sections": [],
   "mount_file_id": "1HYVNl-gyvAzND6X-m2Sdo1z7CSfUzelf",
   "name": "Chatbot_model.ipynb",
   "provenance": []
  },
  "kernelspec": {
   "display_name": "Python 3",
   "language": "python",
   "name": "python3"
  },
  "language_info": {
   "codemirror_mode": {
    "name": "ipython",
    "version": 3
   },
   "file_extension": ".py",
   "mimetype": "text/x-python",
   "name": "python",
   "nbconvert_exporter": "python",
   "pygments_lexer": "ipython3",
   "version": "3.7.10"
  }
 },
 "nbformat": 4,
 "nbformat_minor": 1
}
